{
 "cells": [
  {
   "cell_type": "markdown",
   "metadata": {},
   "source": [
    "Branch name used in this doc: `feature/my_work`"
   ]
  },
  {
   "cell_type": "markdown",
   "metadata": {},
   "source": [
    "### 1. Delete local branches\n",
    "`git branch -d <local_branch>`    \n",
    "\n",
    "e.g. `git branch -d feature/my_work`\n",
    "\n",
    "### 2. Delete remote branches\n",
    "`git push origin --delete <remote_branch>`  \n",
    "\n",
    "e.g. `git push origin --delete feature/my_work`\n"
   ]
  },
  {
   "cell_type": "markdown",
   "metadata": {},
   "source": [
    "### 3. Create a local branch that tracks a remote branch\n",
    "`git checkout --track <origin/remote_branch>`\n",
    "\n",
    "e.g. `git checkout --track origin/feature/my_work`\n",
    "\n",
    "Note: Sometimes `git fetch --all` didn't update all local branches to the remote ones, or didn't get all the remote branches. Use the above to explicitly track a remote branch. A local branch is created. e.g. there exists a remote branch `feature/my_work`, by doing `git checkout --track origin/feature/my_work`, a local `feature/my_work` will be created.  "
   ]
  },
  {
   "cell_type": "markdown",
   "metadata": {},
   "source": [
    "### 4. Rename a Local and Remote Git Branch\n",
    "1. Switch to the local branch which you want to rename:\n",
    "\n",
    "`git checkout <old_name>`  e.g. `git checkout feature/my_work`\n",
    "\n",
    "2. Rename the local branch:\n",
    "\n",
    "`git branch -m <new_name>`  e.g. `git branch -m feature/my_work_new`\n",
    "\n",
    "Note: At this point, the local branch has been renamed. If there exists `old_name` (e.g `origin/feature/my_work`) branch on remote repository, perform the next steps to rename the remote branch.\n",
    "\n",
    "3. Push the `<new_name>` local branch and reset the upstream branch:\n",
    "\n",
    "`git push origin -u <name_name>`   e.g. `git push origin -u feature/my_work_new`\n",
    "\n",
    "4. Delete the `<old_name>` remote branch:\n",
    "\n",
    "`git push origin --delete <old_name>`   e.g `git push origin --delete feature/my_work`"
   ]
  },
  {
   "cell_type": "markdown",
   "metadata": {},
   "source": [
    "### 5. Remove local untracked files from the current Git branch\n",
    "\n",
    "To see which files will be deleted, use the -n option before running the actual command:\n",
    "\n",
    "`git clean -n`\n",
    "\n",
    "Use the -f option to delete the files:\n",
    "\n",
    "`git clean -f`\n",
    "\n",
    "Note: Had this issue with Mac OS, saw lots of irrelevant `.DS_store` files when pushing local changes."
   ]
  },
  {
   "cell_type": "markdown",
   "metadata": {},
   "source": [
    "### 6. Discard local uncommitted changes\n",
    "\n",
    "`git reset --hard` which is equivalent to `git reset --hard HEAD`\n",
    "\n",
    "Note: When pulling, sometime got warning messages and suggested 'stash'. This removes all the local uncommitted changes."
   ]
  },
  {
   "cell_type": "code",
   "execution_count": null,
   "metadata": {},
   "outputs": [],
   "source": []
  }
 ],
 "metadata": {
  "kernelspec": {
   "display_name": "Python 3",
   "language": "python",
   "name": "python3"
  },
  "language_info": {
   "codemirror_mode": {
    "name": "ipython",
    "version": 3
   },
   "file_extension": ".py",
   "mimetype": "text/x-python",
   "name": "python",
   "nbconvert_exporter": "python",
   "pygments_lexer": "ipython3",
   "version": "3.7.4"
  }
 },
 "nbformat": 4,
 "nbformat_minor": 4
}
