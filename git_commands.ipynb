{
 "cells": [
  {
   "cell_type": "markdown",
   "metadata": {},
   "source": [
    "### 1. Delete local branches\n",
    "`git branch -d <local_branch>`\n",
    "\n",
    "### 2. Delete remote branches\n",
    "`git push origin --delete <remote_branch>`\n"
   ]
  },
  {
   "cell_type": "markdown",
   "metadata": {},
   "source": [
    "### 3. Create a local branch that tracks a remote branch\n",
    "`git checkout --track <origin/remote_branch>`\n",
    "\n",
    "Note: Sometimes `git fetch --all` didn't update all local branches to the remote ones, or didn't get all the remote branches. Use the above to explicitly track a remote branch. A local branch is created. e.g. there exists a remote branch `feature/my_work`, by doing `git checkout --track origin/feature/my_work`, a local `feature/my_work` will be created.  "
   ]
  },
  {
   "cell_type": "code",
   "execution_count": null,
   "metadata": {},
   "outputs": [],
   "source": []
  }
 ],
 "metadata": {
  "kernelspec": {
   "display_name": "Python 3",
   "language": "python",
   "name": "python3"
  },
  "language_info": {
   "codemirror_mode": {
    "name": "ipython",
    "version": 3
   },
   "file_extension": ".py",
   "mimetype": "text/x-python",
   "name": "python",
   "nbconvert_exporter": "python",
   "pygments_lexer": "ipython3",
   "version": "3.7.6"
  }
 },
 "nbformat": 4,
 "nbformat_minor": 4
}
